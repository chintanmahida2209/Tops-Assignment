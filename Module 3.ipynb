{
 "cells": [
  {
   "cell_type": "code",
   "execution_count": 1,
   "metadata": {},
   "outputs": [],
   "source": [
    "#1] lists are used to store multiple iteams in a single variable.\n",
    "#  reversing a list using the reverse() function\n"
   ]
  },
  {
   "cell_type": "code",
   "execution_count": 2,
   "metadata": {},
   "outputs": [
    {
     "data": {
      "text/plain": [
       "25"
      ]
     },
     "execution_count": 2,
     "metadata": {},
     "output_type": "execute_result"
    }
   ],
   "source": [
    "# 2] using pop method we will remove last object from list\n",
    "list1=[2,33,222,14,25]\n",
    "list1[-1]"
   ]
  },
  {
   "cell_type": "code",
   "execution_count": 3,
   "metadata": {},
   "outputs": [],
   "source": [
    "# 3] append() :\n",
    "   # add number at last of list.\n",
    "  # extend() :\n",
    "  #  join/extend list but as an individual."
   ]
  },
  {
   "cell_type": "code",
   "execution_count": 4,
   "metadata": {},
   "outputs": [
    {
     "name": "stdout",
     "output_type": "stream",
     "text": [
      "0\n",
      "8\n",
      "4\n",
      "11\n",
      "19\n",
      "22\n",
      "27\n",
      "29\n",
      "30\n",
      "30\n"
     ]
    }
   ],
   "source": [
    "# 4]\n",
    "a=[4,7,8,3,5,2,1,0]\n",
    "sum=0\n",
    "print(min(a))\n",
    "print(max(a))\n",
    "for i in a:\n",
    "    sum=sum+i\n",
    "    print(sum)"
   ]
  },
  {
   "cell_type": "code",
   "execution_count": 5,
   "metadata": {},
   "outputs": [
    {
     "name": "stdout",
     "output_type": "stream",
     "text": [
      "list is not same\n"
     ]
    }
   ],
   "source": [
    "# 5]  How will you compare two lists?\n",
    "l1 = [2,33,222,14,15]\n",
    "l2 = [2,34,54,65,67]\n",
    "l1.sort()\n",
    "l2.sort()\n",
    "if l1==l2:\n",
    "    print(\"the both list is same \")\n",
    "else:\n",
    "    print(\"list is not same\")"
   ]
  },
  {
   "cell_type": "code",
   "execution_count": 6,
   "metadata": {},
   "outputs": [
    {
     "name": "stdout",
     "output_type": "stream",
     "text": [
      "list is not empty\n"
     ]
    }
   ],
   "source": [
    "# 8)Write a Python program to check a list is empty or not. \n",
    "l1 = [2,33,222,222,14,15]\n",
    "if len(l1) == 0:\n",
    "    print(\"list is empty\")\n",
    "else:\n",
    "    print(\"list is not empty\")"
   ]
  },
  {
   "cell_type": "code",
   "execution_count": 7,
   "metadata": {},
   "outputs": [
    {
     "name": "stdout",
     "output_type": "stream",
     "text": [
      "3\n"
     ]
    }
   ],
   "source": [
    "# 6)Write a Python program to count the number of strings where the string \n",
    "# length is 2 or more and the first and last character are same from a given \n",
    "# list of strings. \n",
    "l1 = ['aaa','abd','ace','eye','pip','iot']\n",
    "count=0\n",
    "for i in l1:\n",
    "    if len(i)>2 and i[0] == i[-1]:\n",
    "        count+=1\n",
    "print(count)"
   ]
  },
  {
   "cell_type": "code",
   "execution_count": 8,
   "metadata": {},
   "outputs": [
    {
     "name": "stdout",
     "output_type": "stream",
     "text": [
      "[33, 2, 14, 15, 222]\n"
     ]
    },
    {
     "data": {
      "text/plain": [
       "[33, 2, 14, 15, 222]"
      ]
     },
     "execution_count": 8,
     "metadata": {},
     "output_type": "execute_result"
    }
   ],
   "source": [
    "# 7) Write a Python program to remove duplicates from a list. \n",
    "l1 = [2,33,222,222,14,15]\n",
    "print(list(set(l1)))\n",
    "[33, 2, 14, 15, 222]"
   ]
  },
  {
   "cell_type": "code",
   "execution_count": 1,
   "metadata": {},
   "outputs": [
    {
     "name": "stdout",
     "output_type": "stream",
     "text": [
      "True\n"
     ]
    }
   ],
   "source": [
    "#  Write a Python function that takes two lists and returns true if they have \n",
    "# at least one common member.  \n",
    "l1 = [2,33,222,222,14,15]\n",
    "l2 = ['aaa','abd','ace',2]\n",
    "result = False\n",
    "for x in l1:\n",
    "    for y in l2:\n",
    "        if x==y:\n",
    "            result = True\n",
    "print(result)"
   ]
  },
  {
   "cell_type": "code",
   "execution_count": 2,
   "metadata": {},
   "outputs": [
    {
     "name": "stdout",
     "output_type": "stream",
     "text": [
      "chintan\n"
     ]
    }
   ],
   "source": [
    "#\n",
    "str1 = input (\"enter the string:\")\n",
    "if len(str1)<2:\n",
    "    print(\"enter the string more than length of string\")\n",
    "else:\n",
    "    str1[0]==str1[-1]\n",
    "    print(str1)"
   ]
  },
  {
   "cell_type": "code",
   "execution_count": 3,
   "metadata": {},
   "outputs": [
    {
     "name": "stdout",
     "output_type": "stream",
     "text": [
      "chintu\n"
     ]
    }
   ],
   "source": [
    "#\n",
    "str1 = input (\"enter the string:\")\n",
    "if len(str1)<2:\n",
    "    print(\"enter the string more than length of string\")\n",
    "else:\n",
    "    str1[0]==str1[-1]\n",
    "    print(str1)"
   ]
  },
  {
   "cell_type": "code",
   "execution_count": 4,
   "metadata": {},
   "outputs": [],
   "source": [
    "l1 = list(input(\"enter the list item:\"))\n",
    "# print(len(l1))\n",
    "if len(l1)==0:\n",
    "    print(\"the list is empty\")"
   ]
  },
  {
   "cell_type": "code",
   "execution_count": 5,
   "metadata": {},
   "outputs": [
    {
     "name": "stdout",
     "output_type": "stream",
     "text": [
      "['1'] ['2']\n",
      "None\n"
     ]
    }
   ],
   "source": [
    "def common_num():\n",
    "    l1 = list(input(\"enter the list1:\"))\n",
    "    l2 = list(input(\"enter the list2:\"))\n",
    "    for i in l1:\n",
    "        for j in l2:\n",
    "            if i==j:\n",
    "                return True\n",
    "    print(l1,l2)\n",
    "print(common_num())"
   ]
  },
  {
   "cell_type": "code",
   "execution_count": 7,
   "metadata": {},
   "outputs": [
    {
     "name": "stdout",
     "output_type": "stream",
     "text": [
      "[1, 2, 3, 4, 56, 7, 8, 9, 0, 65]\n"
     ]
    }
   ],
   "source": [
    "# rite a Python function that takes a list and returns a new list with unique \n",
    "# elements of the first list.\n",
    "def uniqe_list(l):\n",
    "    x=[]\n",
    "    for i in l:\n",
    "        if i not in x:\n",
    "            x.append(i)\n",
    "    return x\n",
    "print(uniqe_list([1,2,3,4,56,7,8,9,0,9,8,7,65,4,4,3,2,1]))\n",
    "# uniqe_list(l)"
   ]
  },
  {
   "cell_type": "code",
   "execution_count": 8,
   "metadata": {},
   "outputs": [
    {
     "name": "stdout",
     "output_type": "stream",
     "text": [
      "chintu\n"
     ]
    }
   ],
   "source": [
    "# Write a Python program to convert a list of characters into a string. \n",
    "def convert(s):\n",
    "    new=\"\"\n",
    "    for i in s:\n",
    "        new+=i\n",
    "    return new\n",
    "print(convert([\"c\",'h','i','n','t','u']))"
   ]
  },
  {
   "cell_type": "code",
   "execution_count": 9,
   "metadata": {},
   "outputs": [
    {
     "data": {
      "text/plain": [
       "4"
      ]
     },
     "execution_count": 9,
     "metadata": {},
     "output_type": "execute_result"
    }
   ],
   "source": [
    "#Write a Python program to select an item randomly from a list. \n",
    "import random\n",
    "list1 =[1,2,3,4,5,6,87,8,6,5,4]\n",
    "random.choice(list1)"
   ]
  },
  {
   "cell_type": "code",
   "execution_count": 10,
   "metadata": {},
   "outputs": [
    {
     "data": {
      "text/plain": [
       "3"
      ]
     },
     "execution_count": 10,
     "metadata": {},
     "output_type": "execute_result"
    }
   ],
   "source": [
    "# Write a Python program to find the second smallest number in a list. \n",
    "list1 =[3,5,6,8,6,6,4,32,2,4,5,6,78,]\n",
    "list1.sort()\n",
    "list1[1]"
   ]
  },
  {
   "cell_type": "code",
   "execution_count": 11,
   "metadata": {},
   "outputs": [
    {
     "name": "stdout",
     "output_type": "stream",
     "text": [
      "[2, 4, 5, 6, 78, 9, 7, 65, 3, 32, 24, 56]\n"
     ]
    }
   ],
   "source": [
    "#Write a Python program to get unique values from a list \n",
    "l=[2,4,5,6,78,9,7,65,4,3,2,4,6,5,4,32,24,56,6,5,4,3]\n",
    "x=[]\n",
    "for i in l:\n",
    "    if i not in x:\n",
    "        x.append(i)\n",
    "print(x)"
   ]
  },
  {
   "cell_type": "code",
   "execution_count": 13,
   "metadata": {},
   "outputs": [
    {
     "name": "stdout",
     "output_type": "stream",
     "text": [
      "[1, 2, 3, 4, 5, 6] [7, 8, 90]\n"
     ]
    }
   ],
   "source": [
    "#Write a Python program to split a list into different variables.\n",
    "list1 = [1,2,3,4,5,6,7,8,90]\n",
    "# print(len(list1))\n",
    "var1=list1[:6]\n",
    "var2=list1[6:]\n",
    "print(var1,var2)"
   ]
  },
  {
   "cell_type": "code",
   "execution_count": 15,
   "metadata": {},
   "outputs": [
    {
     "name": "stdout",
     "output_type": "stream",
     "text": [
      "(1, 2, 2.33, 'chintu', [1, 2, 33], (1, 2, 3), {'chintu': 23}, {5.5, 6, 55})\n"
     ]
    }
   ],
   "source": [
    "# Write a Python program to create a tuple with different data types. \n",
    "tup1=(1,2,2.33,\"chintu\",[1,2,33],(1,2,3),{\"chintu\":23},{55,5.5,6,6})\n",
    "print(tup1)"
   ]
  },
  {
   "cell_type": "code",
   "execution_count": 16,
   "metadata": {},
   "outputs": [
    {
     "data": {
      "text/plain": [
       "'(22, 23, 2, 4, 25, 26, 25, 233, 3333)'"
      ]
     },
     "execution_count": 16,
     "metadata": {},
     "output_type": "execute_result"
    }
   ],
   "source": [
    "#Write a Python program to convert a tuple to a string. \n",
    "tup1=(22,23,2,4,25,26,25,233,3333)\n",
    "str(tup1)"
   ]
  },
  {
   "cell_type": "code",
   "execution_count": 17,
   "metadata": {},
   "outputs": [],
   "source": [
    "#  Write a Python program to check whether an element exists within a \n",
    "# tuple. \n",
    "tup1=(22,23,2,4,25,26,25,233,3333,22,23,24)\n",
    "num=int(input(\"enter the number:\"))\n",
    "for i in tup1:\n",
    "    if num==i:\n",
    "        print(\"enter number is aleredy exist in tuple\")\n",
    "#     else:\n",
    "#         print(\"number is not exist\")"
   ]
  },
  {
   "cell_type": "code",
   "execution_count": 18,
   "metadata": {},
   "outputs": [
    {
     "data": {
      "text/plain": [
       "(1, 2, 3, 4, 5, 6, 7, 8, 90)"
      ]
     },
     "execution_count": 18,
     "metadata": {},
     "output_type": "execute_result"
    }
   ],
   "source": [
    "#  Write a Python program to find the length of a tuple. \n",
    "list1 = [1,2,3,4,5,6,7,8,90]\n",
    "tuple(list1)"
   ]
  },
  {
   "cell_type": "code",
   "execution_count": 19,
   "metadata": {},
   "outputs": [
    {
     "data": {
      "text/plain": [
       "(3333, 233, 25, 26, 25, 4, 2, 23, 22)"
      ]
     },
     "execution_count": 19,
     "metadata": {},
     "output_type": "execute_result"
    }
   ],
   "source": [
    "# Write a Python program to reverse a tuple.\n",
    "tup1=(22,23,2,4,25,26,25,233,3333)\n",
    "tup1[::-1]"
   ]
  },
  {
   "cell_type": "code",
   "execution_count": 20,
   "metadata": {},
   "outputs": [
    {
     "name": "stdout",
     "output_type": "stream",
     "text": [
      "(22, 23, 2, 4, 25, 26, 25, 233, 3444)\n"
     ]
    }
   ],
   "source": [
    "# rite a Python program to replace last value of tuples in a list. \n",
    "tup1=(22,23,2,4,25,26,25,233,3333)\n",
    "list1=list(tup1)\n",
    "list1[-1]=3444\n",
    "print(tuple(list1))\n",
    "# print(list1)"
   ]
  },
  {
   "cell_type": "code",
   "execution_count": 21,
   "metadata": {},
   "outputs": [
    {
     "name": "stdout",
     "output_type": "stream",
     "text": [
      "[22, 25, 22, 25]\n"
     ]
    }
   ],
   "source": [
    "# Write a Python program to find the repeated items of a tuple. \n",
    "tup1=(22,23,2,4,25,26,22,233,3333.35,25)\n",
    "repeted_items=[]\n",
    "for i in tup1:\n",
    "    if tup1.count(i)>1:\n",
    "        repeted_items.append(i)\n",
    "print(repeted_items)"
   ]
  },
  {
   "cell_type": "code",
   "execution_count": 22,
   "metadata": {},
   "outputs": [],
   "source": [
    "# rite a Python program to remove an empty tuple(s) from a list of tuples. \n",
    "def Remove(tuples):\n",
    "    for i in tuples:\n",
    "        if(len(i) == 0):\n",
    "            tuples.remove(i)\n",
    "    return tuples"
   ]
  },
  {
   "cell_type": "code",
   "execution_count": 23,
   "metadata": {},
   "outputs": [
    {
     "name": "stdout",
     "output_type": "stream",
     "text": [
      "[('ram', '15', '8'), ('laxman', 'sita'), ('krishna', 'akbar', '45'), ('', '')]\n"
     ]
    }
   ],
   "source": [
    "# Driver Code\n",
    "tuples = [(), ('ram', '15', '8'), (), ('laxman', 'sita'),('krishna', 'akbar', '45'), ('', ''), ()]\n",
    "print(Remove(tuples))"
   ]
  },
  {
   "cell_type": "code",
   "execution_count": 24,
   "metadata": {},
   "outputs": [
    {
     "name": "stdout",
     "output_type": "stream",
     "text": [
      "[(1, 4), (2, 5), (3, 6)]\n"
     ]
    }
   ],
   "source": [
    "#  Write a Python program to unzip a list of tuples into individual lists. \n",
    "l1=[(1,2,3),(4,5,6)]\n",
    "print(list(zip(*l1)))"
   ]
  },
  {
   "cell_type": "code",
   "execution_count": 26,
   "metadata": {},
   "outputs": [
    {
     "name": "stdout",
     "output_type": "stream",
     "text": [
      "{1: 2, 2: 3, 4: 5}\n"
     ]
    }
   ],
   "source": [
    "#  Write a Python script to concatenate following dictionaries to create a \n",
    "# new one. \n",
    "dict1 = {1:2,2:3}\n",
    "dict2 ={2:3,4:5}\n",
    "dict3={}\n",
    "for i  in (dict1,dict2):\n",
    "    dict3.update(i)\n",
    "print(dict3)"
   ]
  },
  {
   "cell_type": "code",
   "execution_count": 27,
   "metadata": {},
   "outputs": [
    {
     "name": "stdout",
     "output_type": "stream",
     "text": [
      "not present\n"
     ]
    }
   ],
   "source": [
    "# Write a Python script to check if a given key already exists in a \n",
    "# dictionary.\n",
    "key=input(\"enter the key name:\")\n",
    "dic={'1':2,'2':3,'3':4,'3':5,'4':6,'6':7}\n",
    "if key in dic.keys():\n",
    "    print(\"present\")\n",
    "else:\n",
    "    print(\"not present\")"
   ]
  },
  {
   "cell_type": "code",
   "execution_count": 28,
   "metadata": {},
   "outputs": [
    {
     "name": "stdout",
     "output_type": "stream",
     "text": [
      "{1: 1, 2: 4, 3: 9, 4: 16, 5: 25, 6: 36, 7: 49, 8: 64, 9: 81, 10: 100, 11: 121, 12: 144, 13: 169, 14: 196, 15: 225}\n"
     ]
    }
   ],
   "source": [
    "#  Write a Python script to print a dictionary where the keys are numbers \n",
    "# between 1 and 15. \n",
    "a=dict()\n",
    "for i in range(1,16):\n",
    "    a[i]=i**2\n",
    "print(a)"
   ]
  },
  {
   "cell_type": "code",
   "execution_count": 29,
   "metadata": {},
   "outputs": [
    {
     "name": "stdout",
     "output_type": "stream",
     "text": [
      "not prsent\n"
     ]
    }
   ],
   "source": [
    "#  How Do You Check The Presence Of A Key In A Dictionary? \n",
    "dic={\"1\":2,'3':4,'4':6,'6':7}\n",
    "x = input(\"enter the key \")\n",
    "# dic.has_key(x)\n",
    "if x in dic:\n",
    "    print(\"present\")\n",
    "else:\n",
    "    print(\"not prsent\")"
   ]
  },
  {
   "cell_type": "code",
   "execution_count": 30,
   "metadata": {},
   "outputs": [
    {
     "name": "stdout",
     "output_type": "stream",
     "text": [
      "1 2\n",
      "3 4\n",
      "4 6\n",
      "6 7\n"
     ]
    }
   ],
   "source": [
    "# How Do You Traverse Through A Dictionary Object In Python? \n",
    "dic={\"1\":2,'3':4,'4':6,'6':7}\n",
    "for keys,values in dic.items():\n",
    "    print(keys,values)"
   ]
  },
  {
   "cell_type": "code",
   "execution_count": 31,
   "metadata": {},
   "outputs": [
    {
     "name": "stdout",
     "output_type": "stream",
     "text": [
      "{'a': 400, 'b': 400, 'd': 400, 'c': 300}\n"
     ]
    }
   ],
   "source": [
    "#  Write a Python program to combine two dictionary adding values for \n",
    "# common keys. \n",
    "# d1 = {'a': 100, 'b': 200, 'c':300} o d2 = {'a': 300, 'b': 200,’d’:400} \n",
    "# Sample output: Counter ({'a': 400, 'b': 400,’d’: 400, 'c': 300}). \n",
    "d1 = {'a': 100, 'b': 200, 'c':300}\n",
    "d2 = {'a': 300, 'b': 200,'d':400} \n",
    "# print(d1.get(\"a\"))\n",
    "c = {i: d1.get(i, 0) + d2.get(i, 0)\n",
    "     for i in set(d1).union(d2)}\n",
    "print(c)"
   ]
  },
  {
   "cell_type": "code",
   "execution_count": 32,
   "metadata": {},
   "outputs": [
    {
     "name": "stdout",
     "output_type": "stream",
     "text": [
      "dict_keys(['a', 'b', 'd'])\n"
     ]
    }
   ],
   "source": [
    "# Write a Python program to print all unique values in a dictionary. \n",
    "d2 = {'a': 300, 'b': 200,'d':400,'a': 300, 'b': 200,'d':400}  \n",
    "\n",
    "print(d2.keys())"
   ]
  },
  {
   "cell_type": "code",
   "execution_count": 33,
   "metadata": {},
   "outputs": [
    {
     "name": "stdout",
     "output_type": "stream",
     "text": [
      "ac\n",
      "ad\n",
      "bc\n",
      "bd\n"
     ]
    }
   ],
   "source": [
    "# selecting each letter from a different key in a dictionary. \n",
    "d1={'1': ['a','b'], '2': ['c','d']} \n",
    "for x in d1[\"1\"]:\n",
    "    for y in d1[\"2\"]:\n",
    "        print(x+y)"
   ]
  },
  {
   "cell_type": "code",
   "execution_count": 34,
   "metadata": {},
   "outputs": [
    {
     "name": "stdout",
     "output_type": "stream",
     "text": [
      "[400, 500, 800]\n"
     ]
    }
   ],
   "source": [
    "#  Write a Python program to find the highest 3 values in a dictionary \n",
    "d1={'a': 300, 'b': 200,'dc':400,'e': 500, 'f': 800,'g':100}\n",
    "d2=list(d1.values())\n",
    "# print(d2)\n",
    "d2.sort()\n",
    "print(d2[-3:])"
   ]
  },
  {
   "cell_type": "code",
   "execution_count": 35,
   "metadata": {},
   "outputs": [
    {
     "name": "stdout",
     "output_type": "stream",
     "text": [
      "15511210043330985984000000\n"
     ]
    }
   ],
   "source": [
    "#  Write a Python function to calculate the factorial of a number (a nonnegative integer) \n",
    "def factorial(n):\n",
    "    fact=1\n",
    "    for i in range(2,n+1):\n",
    "        fact=fact*i\n",
    "    return fact\n",
    "n=int(input(\"enter factorial number:\"))\n",
    "print(factorial(n))"
   ]
  },
  {
   "cell_type": "code",
   "execution_count": 36,
   "metadata": {},
   "outputs": [
    {
     "name": "stdout",
     "output_type": "stream",
     "text": [
      "the number is in range\n"
     ]
    }
   ],
   "source": [
    "# Write a Python function to check whether a number is in a given range\n",
    "num=int(input(\"enter the number\"))\n",
    "\n",
    "if num in range(0,45):\n",
    "    print(\"the number is in range\")\n",
    "else:\n",
    "    print(\"the number is not given in range\")"
   ]
  },
  {
   "cell_type": "code",
   "execution_count": 37,
   "metadata": {},
   "outputs": [
    {
     "name": "stdout",
     "output_type": "stream",
     "text": [
      "1\n",
      "1\n",
      "1\n",
      "1\n"
     ]
    }
   ],
   "source": [
    "# Write a Python function to check whether a number is perfect or not. \n",
    "\n",
    "n= int(input(\"enter the number\"))\n",
    "sum = 0\n",
    "for i in range(1,n):\n",
    "    if n % i==0:\n",
    "        sum= sum +i\n",
    "    print(sum)"
   ]
  },
  {
   "cell_type": "code",
   "execution_count": 38,
   "metadata": {},
   "outputs": [
    {
     "name": "stdout",
     "output_type": "stream",
     "text": [
      "not\n",
      "None\n"
     ]
    }
   ],
   "source": [
    "# Write a Python function that checks whether a passed string is \n",
    "# palindrome or not\n",
    "def palindrome(x):\n",
    "    if x ==x[::-1]:\n",
    "        print(\"it is palindrome\")\n",
    "    else:\n",
    "        print(\"not\")\n",
    "x=input(\"enter the string:\")\n",
    "print(palindrome(x))"
   ]
  },
  {
   "cell_type": "code",
   "execution_count": 39,
   "metadata": {},
   "outputs": [
    {
     "name": "stdout",
     "output_type": "stream",
     "text": [
      "93\n"
     ]
    }
   ],
   "source": [
    "n = int(input(\"enter the number\"))\n",
    "sum=0\n",
    "for i in range(1,n+1):\n",
    "    if n%i==0:\n",
    "        sum+=i\n",
    "print(sum)"
   ]
  },
  {
   "cell_type": "code",
   "execution_count": 41,
   "metadata": {},
   "outputs": [
    {
     "name": "stdout",
     "output_type": "stream",
     "text": [
      "3.14 12.56\n"
     ]
    }
   ],
   "source": [
    "r = float(input(\"enter the radious of thr cylinder\"))\n",
    "h = float(input(\"enter the height of the cylinder\"))\n",
    "volume_of_cylinder= (3.14)*r*r*h\n",
    "surface_of_area= 3.14*2*r*r +2*3.14*r*h\n",
    "print(volume_of_cylinder,surface_of_area)"
   ]
  },
  {
   "cell_type": "code",
   "execution_count": 42,
   "metadata": {},
   "outputs": [
    {
     "name": "stdout",
     "output_type": "stream",
     "text": [
      "400.0\n"
     ]
    }
   ],
   "source": [
    "# area of parallelogram\n",
    "b=float(input(\"enter the value of basse\"))\n",
    "h=float(input(\"enter the value of height\"))\n",
    "area=b*h\n",
    "print(area)"
   ]
  },
  {
   "cell_type": "code",
   "execution_count": 43,
   "metadata": {},
   "outputs": [
    {
     "name": "stdout",
     "output_type": "stream",
     "text": [
      "450.0\n"
     ]
    }
   ],
   "source": [
    "# area of trapezoid\n",
    "b1=float(input(\"enter the number\"))\n",
    "b2=float(input(\"enter the number\"))\n",
    "h=float(input(\"enter the number\"))\n",
    "a=(b1+b2)*h/2\n",
    "print(a)"
   ]
  },
  {
   "cell_type": "code",
   "execution_count": 44,
   "metadata": {},
   "outputs": [
    {
     "name": "stdout",
     "output_type": "stream",
     "text": [
      "0.03490658503988659\n"
     ]
    }
   ],
   "source": [
    "\n",
    "# coversion of degree to radian\n",
    "from math import pi\n",
    "degree=float(input(\"enter the number\"))\n",
    "radian = degree*pi / 180\n",
    "print(radian)"
   ]
  }
 ],
 "metadata": {
  "kernelspec": {
   "display_name": "base",
   "language": "python",
   "name": "python3"
  },
  "language_info": {
   "codemirror_mode": {
    "name": "ipython",
    "version": 3
   },
   "file_extension": ".py",
   "mimetype": "text/x-python",
   "name": "python",
   "nbconvert_exporter": "python",
   "pygments_lexer": "ipython3",
   "version": "3.9.13"
  },
  "orig_nbformat": 4
 },
 "nbformat": 4,
 "nbformat_minor": 2
}
