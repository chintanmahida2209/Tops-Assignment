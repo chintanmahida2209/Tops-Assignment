{
 "cells": [
  {
   "cell_type": "code",
   "execution_count": 24,
   "metadata": {},
   "outputs": [
    {
     "name": "stdout",
     "output_type": "stream",
     "text": [
      "the number is poditive\n"
     ]
    }
   ],
   "source": [
    "# Write a Python program to check if a number is positive, negative or zero\n",
    "\n",
    "num=float(input(\"enter the number\"))\n",
    "if(num>0):\n",
    "    print(\"the number is poditive\")\n",
    "elif(num==0):\n",
    "    print(\"the number is zero\")\n",
    "else:\n",
    "    print(\"the number is negative\")\n"
   ]
  },
  {
   "cell_type": "code",
   "execution_count": 25,
   "metadata": {},
   "outputs": [
    {
     "name": "stdout",
     "output_type": "stream",
     "text": [
      "5 6\n",
      "after swapping (6, 5)\n",
      "5 6\n"
     ]
    }
   ],
   "source": [
    "\n",
    "# Write python program that swap two number with temp variable and without temp variable\n",
    "\n",
    "a,b=5,6\n",
    "print(a,b)\n",
    "a,b=b,a\n",
    "print(\"after swapping\",(a,b))\n",
    "temp=a\n",
    "a=b\n",
    "b=temp\n",
    "print(a,b)"
   ]
  },
  {
   "cell_type": "code",
   "execution_count": 26,
   "metadata": {},
   "outputs": [
    {
     "name": "stdout",
     "output_type": "stream",
     "text": [
      "given letter is not vowel 20\n"
     ]
    }
   ],
   "source": [
    "#vowel\n",
    "vowel=('a','e','i','o','u','A','E','I','O','U')\n",
    "letter=input(\"enter the letter\")\n",
    "if letter in vowel:\n",
    "    print(\"given letter is vowel\",letter)\n",
    "else:\n",
    "    print(\"given letter is not vowel\",letter)"
   ]
  },
  {
   "cell_type": "code",
   "execution_count": 27,
   "metadata": {},
   "outputs": [
    {
     "name": "stdout",
     "output_type": "stream",
     "text": [
      "given 30 factorial is  265252859812191058636308480000000\n"
     ]
    }
   ],
   "source": [
    "#factorial\n",
    "num=int(input(\"enter the number\"))\n",
    "fact=1 \n",
    "for i in range(1,num+1):\n",
    "    fact=fact*i\n",
    "print(f\"given {num} factorial is \",fact)\n"
   ]
  },
  {
   "cell_type": "code",
   "execution_count": 28,
   "metadata": {},
   "outputs": [
    {
     "name": "stdout",
     "output_type": "stream",
     "text": [
      "179\n"
     ]
    }
   ],
   "source": [
    "#sum of three given integer and if two value are eqal sum will be ze\n",
    "a=int(input(\"enter the number\"))\n",
    "b=int(input(\"enter the number\"))       \n",
    "c =int(input(\"enter the number\"))\n",
    "if a==b or b==c or c==a:\n",
    "    sum=0\n",
    "    print(sum)\n",
    "else:\n",
    "    sum=a+b+c\n",
    "    print(sum)"
   ]
  },
  {
   "cell_type": "code",
   "execution_count": 29,
   "metadata": {},
   "outputs": [
    {
     "name": "stdout",
     "output_type": "stream",
     "text": [
      "false\n"
     ]
    }
   ],
   "source": [
    "#2 valuse and cindition equal ,sum, diffrence\n",
    "a=int(input(\"enter the number\"))\n",
    "b=int(input(\"enter the number\"))\n",
    "if a==b or a+b==5 or a-b==5:\n",
    "    print(\"true\")\n",
    "else:\n",
    "    print(\"false\")\n"
   ]
  },
  {
   "cell_type": "code",
   "execution_count": 30,
   "metadata": {},
   "outputs": [
    {
     "name": "stdout",
     "output_type": "stream",
     "text": [
      "the giver positive number sum is 6\n"
     ]
    }
   ],
   "source": [
    "#sum n positive integer\n",
    "a=int(input(\"enter the number\"))\n",
    "sum=0\n",
    "for i in range(1,a+1):\n",
    "    sum=sum+i\n",
    "print(\"the giver positive number sum is\",sum)"
   ]
  },
  {
   "cell_type": "code",
   "execution_count": 31,
   "metadata": {},
   "outputs": [
    {
     "name": "stdout",
     "output_type": "stream",
     "text": [
      "30\n"
     ]
    }
   ],
   "source": [
    "#calulat the length of string\n",
    "a=\"python is programming language\"\n",
    "print(len(a))"
   ]
  },
  {
   "cell_type": "code",
   "execution_count": 32,
   "metadata": {},
   "outputs": [
    {
     "name": "stdout",
     "output_type": "stream",
     "text": [
      "4\n"
     ]
    }
   ],
   "source": [
    "#count the number of charracter\n",
    "a=\"my name is chintan mahida\"\n",
    "print(a.count(\"a\"))"
   ]
  },
  {
   "cell_type": "code",
   "execution_count": 37,
   "metadata": {},
   "outputs": [
    {
     "name": "stdout",
     "output_type": "stream",
     "text": [
      "before swap: hello   love\n",
      "after swap: heove\n",
      "lolo\n",
      "helo\n",
      "lollo\n"
     ]
    }
   ],
   "source": [
    "#write program to get a single string from two given string,saprated by a space and swap the first two character of each string\n",
    "\n",
    "a= 'hello'\n",
    "b='love'\n",
    "print(\"before swap:\",a,\" \",b)\n",
    "a1= a[:2] + b[1:]\n",
    "b1= b[:2] + a[3:]\n",
    "print(\"after swap:\",a1)\n",
    "print(b1)\n",
    "a2=a[0:2]+a[3:]\n",
    "print(a2)\n",
    "a3=b[0:2]+a[2:]\n",
    "print(a3)"
   ]
  },
  {
   "cell_type": "code",
   "execution_count": 38,
   "metadata": {},
   "outputs": [
    {
     "name": "stdout",
     "output_type": "stream",
     "text": [
      "1\n",
      "1\n"
     ]
    }
   ],
   "source": [
    "a=input(\"enter the string: \")\n",
    "print(len(a))\n",
    "if len(a)%4==0:\n",
    "    print(a[::-1])\n",
    "else:\n",
    "    print(a)"
   ]
  },
  {
   "cell_type": "code",
   "execution_count": 39,
   "metadata": {},
   "outputs": [
    {
     "name": "stdout",
     "output_type": "stream",
     "text": [
      "22\n",
      "1\n",
      "the string is empty\n"
     ]
    }
   ],
   "source": [
    "a=input(\"enter the string: \")    # user pase thi string levi hoy tyare\n",
    "# a=\"my name is jensi\"\n",
    "a1= a[0:2]+a[:-3:-1]          # user pase thi levi tyare string length vadhare hoy tyare last part [:,:-:-1]\n",
    "print(a1)    # length no ganviu hoy tyare \n",
    "print(len(a))\n",
    "if len(a)<2:\n",
    "    print(\"the string is empty\")\n",
    "else:\n",
    "    print(a)\n",
    "    "
   ]
  },
  {
   "cell_type": "code",
   "execution_count": 40,
   "metadata": {},
   "outputs": [
    {
     "name": "stdout",
     "output_type": "stream",
     "text": [
      "11\n",
      "my name is chintan and im a student\n"
     ]
    }
   ],
   "source": [
    "#\n",
    "a=\"my name is and im a student\"\n",
    "b= \"chintan\"\n",
    "print(a.index(\"and\"))\n",
    "a=a[:11] + b + a[10:]\n",
    "print(a)"
   ]
  },
  {
   "cell_type": "code",
   "execution_count": 41,
   "metadata": {},
   "outputs": [
    {
     "name": "stdout",
     "output_type": "stream",
     "text": [
      "0\n",
      "1\n",
      "1\n",
      "2\n",
      "3\n",
      "5\n",
      "8\n"
     ]
    }
   ],
   "source": [
    "#3] fibonake series\n",
    "n=int(input(\"enter the number : \"))\n",
    "a1=0\n",
    "b1=1\n",
    "if n==1:\n",
    "    print(a1)\n",
    "else:\n",
    "    print(a1)\n",
    "    print(b1)\n",
    "for i in range(2,n):\n",
    "    c1=a1+b1\n",
    "    print(c1)\n",
    "    a1=b1\n",
    "    b1=c1"
   ]
  },
  {
   "cell_type": "code",
   "execution_count": 42,
   "metadata": {},
   "outputs": [
    {
     "name": "stdout",
     "output_type": "stream",
     "text": [
      "chintan\n"
     ]
    }
   ],
   "source": [
    "#18]\n",
    "a=input(\"enter the string:\")\n",
    "b=a.find(\"not\")\n",
    "c=a.find(\"poor\")\n",
    "if b==c-4:\n",
    "    print(a.replace(\"not poor\",\" good\"))\n",
    "else:\n",
    "    print(a)"
   ]
  },
  {
   "cell_type": "code",
   "execution_count": 43,
   "metadata": {},
   "outputs": [
    {
     "name": "stdout",
     "output_type": "stream",
     "text": [
      "7\n",
      "14\n"
     ]
    }
   ],
   "source": [
    "#19]\n",
    "a=[\"chintan\",\"love\",\"arshit\",\"dhruvin\",\"love\",\"pratik\",\"jncszhshjkdcnv\"]\n",
    "m=0\n",
    "for i in a:\n",
    "    if len(i)>m:\n",
    "        m=len(i)\n",
    "        print(m)\n"
   ]
  }
 ],
 "metadata": {
  "kernelspec": {
   "display_name": "base",
   "language": "python",
   "name": "python3"
  },
  "language_info": {
   "codemirror_mode": {
    "name": "ipython",
    "version": 3
   },
   "file_extension": ".py",
   "mimetype": "text/x-python",
   "name": "python",
   "nbconvert_exporter": "python",
   "pygments_lexer": "ipython3",
   "version": "3.9.13"
  },
  "orig_nbformat": 4
 },
 "nbformat": 4,
 "nbformat_minor": 2
}
